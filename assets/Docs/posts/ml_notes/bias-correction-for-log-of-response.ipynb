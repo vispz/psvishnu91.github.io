{
 "cells": [
  {
   "cell_type": "code",
   "execution_count": 1,
   "id": "fba42718",
   "metadata": {},
   "outputs": [
    {
     "data": {
      "text/html": [
       "<style>.container { width:100% !important; }</style>"
      ],
      "text/plain": [
       "<IPython.core.display.HTML object>"
      ]
     },
     "metadata": {},
     "output_type": "display_data"
    }
   ],
   "source": [
    "from IPython.display import display, HTML\n",
    "display(HTML(\"<style>.container { width:100% !important; }</style>\"))\n",
    "import matplotlib.pyplot as plt\n",
    "import numpy as np\n",
    "plt.rcParams[\"figure.figsize\"] = (12, 4)\n",
    "plt.rcParams[\"font.size\"] = 14\n",
    "plt.style.use('fivethirtyeight')"
   ]
  },
  {
   "cell_type": "markdown",
   "id": "9d4d57c0",
   "metadata": {},
   "source": [
    "# Bias adjustment when predicting `log Y` instead of `Y`\n",
    "\n",
    "## 1. Regular linear regression\n",
    "\n",
    "In a linear regression task, we predict `E[Y|X=x]`. The assuption here is that for every value of `X=x`, the response $Y$ is normally distributed with mean $w^T x$ and some unknown variance $\\sigma^2$.\n",
    "\n",
    "$$Y \\sim N(wx, \\sigma^2)$$\n",
    "\n",
    "$E[Y|X=x] = \\int_{-\\infty}^\\infty y f(y|X=x)dy$. Since we assumed that $Y$ is normally distributed this is the same as $E[Y|X=x] = \\frac{1}{\\sqrt{2\\pi}\\sigma }\\int_{-\\infty}^\\infty y \\exp\\left(\\frac{-(y-\\mu)^2}{2\\sigma^2}\\right)dy = \\mu = wx$. We've substitued the form of the normal distribution.\n",
    "\n",
    "> Imagine for every value of $X=x$, there's a normal distribution with a different mean representing the probability density function $P(Y|X=x)$. We are taking the expectation of the normal function $P(Y|X=x)$. For a normal distribution the expected value is the mean which we defined as $\\mu=wx$.\n",
    "\n",
    "<img src=\"./linreg-normal-dist.jpeg\" width=\"50%\"/>"
   ]
  },
  {
   "cell_type": "markdown",
   "id": "59873dcd",
   "metadata": {},
   "source": [
    "## 2. Linear regression when the output is log normal"
   ]
  },
  {
   "cell_type": "markdown",
   "id": "3f5f55e7",
   "metadata": {},
   "source": [
    "Above for every value of $X=x$ we assumed that the output was normally distributed with a mean of $\\mu=wx$. What if you know that conditioned on $X=x$, the log of the response is normally distributed? $$\\log Y \\sim N(wx, \\sigma^2)$$\n",
    "\n",
    "We can build a linear regression model $\\left[\\log Y = wx + \\epsilon\\right]$. Similar to above $E[\\log Y|X=x] = wx$ but we want to know $E[Y|X=x]$.\n",
    "\n",
    "### 2.1 Why can't we simply exponentiate?\n",
    "The predictions will be biased and we will be consistently **underestimating** the response.\n",
    "\n",
    "$$ E[Y|X=x] \\geq \\exp\\left(E[\\log Y|X=x]\\right) $$\n",
    "\n",
    "(( here the expectations are taken over $y \\sim P(Y=y|X=x)$ ))\n",
    "\n",
    "#### Explanation 1 with Jensen's inequality\n",
    "If you're familiar with Jensen's inequality for convex/concave functions ([yt video](https://www.youtube.com/watch?v=LOwj7UxQwJ0) explaining this), we know that $E[\\log (Y|X=x)] \\leq \\log(E[Y|X=x])$ . Also since $\\exp$ is a monotonic function,\n",
    "$$ \\exp\\left(E[\\log Y|X=x]\\right) \\leq E[Y|X=x]$$\n",
    "\n",
    "#### Explanation 2\n",
    "$$\n",
    "\\begin{align*}\n",
    "\\log Y &= wx + \\epsilon \\quad \\left(\\epsilon \\sim N(0, \\sigma^2)\\right)\\\\\n",
    "Y &= e^{wx}e^\\epsilon \\\\\n",
    "E[Y|X=x] &= E[e^{wx}]E[e^\\epsilon] \\\\\n",
    "&= e^{\\widehat{\\log y}} e^{\\left(\\frac{\\sigma^2}{2}\\right)}\\\\\n",
    "\\text{where the below is }&\\text{the prediction of linear regression} \\\\\n",
    "\\widehat{\\log y} & = wx\n",
    "\\end{align*}\n",
    "$$\n",
    "<br/>\n",
    "Since, $\\exp$ of any positive number is greater than 1, after the correction the prediction value increases (because our original estimate is underestimate).\n",
    "<br/>\n",
    "<br/>\n",
    "\n",
    "$$\n",
    "\\begin{align*}\n",
    "\\text{ypred_bias_corrected} &= e^{\\widehat{\\log y}} E[e^\\epsilon] \\\\\n",
    "&= e^{wx} E[e^\\epsilon] \\\\\n",
    "E[e^\\epsilon] = e^{\\left(\\frac{\\sigma^2}{2}\\right)} &\\approx \\frac{1}{n} \\sum_{i=1}^n e^{r_i} \\quad \\text{where $r_i$ are the residues (logy_true-logy_pred)} \\\\\n",
    "\\text{ypred_bias_corrected} = \\widehat{E[Y|X=x]} &= e^{\\widehat{\\log y}} \\left(\\frac{1}{n} \\sum_{i=1}^n e^{r_i} \\right)\n",
    "\\end{align*}\n",
    "$$"
   ]
  },
  {
   "cell_type": "markdown",
   "id": "14304ab6",
   "metadata": {},
   "source": [
    "### 2.2 Simulation\n",
    "#### Create dataset\n",
    "\n",
    "$\\log Y \\sim N(\\mu=0.2 x + 0.1,\\quad \\sigma^2=0.09)$"
   ]
  },
  {
   "cell_type": "code",
   "execution_count": 2,
   "id": "8cf4eb08",
   "metadata": {},
   "outputs": [],
   "source": [
    "n = 100_000\n",
    "sigma = 0.3"
   ]
  },
  {
   "cell_type": "code",
   "execution_count": 3,
   "id": "5703dfc8",
   "metadata": {},
   "outputs": [
    {
     "data": {
      "image/png": "[encoded data removed]",
      "text/plain": [
       "<Figure size 432x288 with 2 Axes>"
      ]
     },
     "metadata": {
      "needs_background": "light"
     },
     "output_type": "display_data"
    }
   ],
   "source": [
    "x = np.random.random(n)*25\n",
    "logit = 0.2*x + 0.1 + np.random.normal(loc=0., scale=sigma, size=n)\n",
    "y = np.exp(logit);\n",
    "plt.subplot(121)\n",
    "ixes = np.random.random(n) < 0.001\n",
    "plt.scatter(x[ixes], logit[ixes])\n",
    "plt.xlabel('x'); plt.ylabel('logit'); plt.title('x vs logit');\n",
    "plt.subplot(122)\n",
    "plt.scatter(x[ixes], y[ixes])\n",
    "plt.xlabel('x'); plt.ylabel('y'); plt.title('x vs y');\n",
    "plt.show()"
   ]
  },
  {
   "cell_type": "markdown",
   "id": "60448444",
   "metadata": {},
   "source": [
    "#### Fitting a linear regrssion line\n",
    "\n",
    "We then assume our linear regression gives us the exact weight and bias, 0.2 and 0.1 respectively. We then estimate `logy_pred = log y = 0.2 * x + 0.1`.\n",
    "\n",
    "The uncorrected prediction `ypred = exp(logy_pred) = exp(0.2*x + 0.1)`\\\n",
    "The corrected prediction `ypred_bias_cor = exp(logy_pred)*exp(sigma^2/2) = exp(0.2*x + 0.1)*exp(sigma^2/2)`\n",
    "\n",
    "Finally, since we don't observe `sigma`, we will estimate $E[e^\\epsilon] \\approx \\left(\\frac{1}{n} \\sum_{i=1}^n e^{r_i} \\right)$ with ` np.exp(logy_pred-logy).mean()`."
   ]
  },
  {
   "cell_type": "code",
   "execution_count": 4,
   "id": "6efaa2b9",
   "metadata": {},
   "outputs": [
    {
     "name": "stdout",
     "output_type": "stream",
     "text": [
      "True correction exp(σ^2/2) \t\t\t1.046027859908717\n",
      "Correstion estimate exp(logy_pred-logy).mean() \t1.046596736133511\n",
      "\n",
      "\n",
      "Bias for uncorrected prediction \t\t\t\t1.484678291204287\n",
      "Bias for corrected prediction with true correction \t\t-0.02431155648719088\n",
      "Bias for corrected prediction with correction estimate \t\t-0.04296174899037445\n"
     ]
    }
   ],
   "source": [
    "# no correction\n",
    "logy_pred = 0.2*x + 0.1\n",
    "ypred = np.exp(logy_pred)\n",
    "\n",
    "# adjustment if we had access to the unknown variance sigma^2\n",
    "correction_true =  np.exp(sigma**2/2)\n",
    "ypred_bias_cor = ypred * correction_true\n",
    "\n",
    "# adjustment if we have to estimate sigma^2\n",
    "correction_est = np.exp( (logit-logy_pred)).mean()\n",
    "ypred_bias_cor_est = ypred *correction_est\n",
    "\n",
    "print(f\"True correction exp(σ^2/2) \\t\\t\\t{correction_true}\")\n",
    "print(f\"Correstion estimate exp(logy_pred-logy).mean() \\t{correction_est}\\n\\n\")\n",
    "print(f\"Bias for uncorrected prediction \\t\\t\\t\\t{(y-ypred).mean()}\")\n",
    "print(f\"Bias for corrected prediction with true correction \\t\\t{(y-ypred_bias_cor).mean()}\")\n",
    "print(f\"Bias for corrected prediction with correction estimate \\t\\t{(y-ypred_bias_cor_est).mean()}\")"
   ]
  }
 ],
 "metadata": {
  "kernelspec": {
   "display_name": "Python 3 (ipykernel)",
   "language": "python",
   "name": "python3"
  },
  "language_info": {
   "codemirror_mode": {
    "name": "ipython",
    "version": 3
   },
   "file_extension": ".py",
   "mimetype": "text/x-python",
   "name": "python",
   "nbconvert_exporter": "python",
   "pygments_lexer": "ipython3",
   "version": "3.10.8"
  }
 },
 "nbformat": 4,
 "nbformat_minor": 5
}
